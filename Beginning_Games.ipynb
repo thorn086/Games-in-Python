{
  "nbformat": 4,
  "nbformat_minor": 0,
  "metadata": {
    "colab": {
      "name": "Beginning Games",
      "provenance": [],
      "include_colab_link": true
    },
    "kernelspec": {
      "name": "python3",
      "display_name": "Python 3"
    }
  },
  "cells": [
    {
      "cell_type": "markdown",
      "metadata": {
        "id": "view-in-github",
        "colab_type": "text"
      },
      "source": [
        "<a href=\"https://colab.research.google.com/github/thorn086/Games-in-Python/blob/master/Beginning_Games.ipynb\" target=\"_parent\"><img src=\"https://colab.research.google.com/assets/colab-badge.svg\" alt=\"Open In Colab\"/></a>"
      ]
    },
    {
      "cell_type": "code",
      "metadata": {
        "id": "gX7e5uuOxC4W",
        "colab_type": "code",
        "outputId": "8f5183ce-152e-4131-e539-67c70105bc78",
        "colab": {
          "base_uri": "https://localhost:8080/",
          "height": 55
        }
      },
      "source": [
        "!pip install pygame"
      ],
      "execution_count": 1,
      "outputs": [
        {
          "output_type": "stream",
          "text": [
            "Requirement already satisfied: pygame in /usr/local/lib/python3.6/dist-packages (1.9.6)\n"
          ],
          "name": "stdout"
        }
      ]
    },
    {
      "cell_type": "code",
      "metadata": {
        "id": "U2PlqZd9yAEL",
        "colab_type": "code",
        "outputId": "d276b0af-3618-4ae8-c820-5f2abb9006de",
        "colab": {
          "base_uri": "https://localhost:8080/",
          "height": 69
        }
      },
      "source": [
        "print(\"Welcome to Darren Rose's Word Guessing Game!\")\n",
        "print(\"You will have 6 total attempts at guessing the letters in the word\")\n",
        "print('After 6 attempts, it is Game Over!')"
      ],
      "execution_count": 2,
      "outputs": [
        {
          "output_type": "stream",
          "text": [
            "Welcome to Darren Rose's Word Guessing Game!\n",
            "You will have 6 total attempts at guessing the letters in the word\n",
            "After 6 attempts, it is Game Over!\n"
          ],
          "name": "stdout"
        }
      ]
    },
    {
      "cell_type": "code",
      "metadata": {
        "id": "8_rOC40IzB8a",
        "colab_type": "code",
        "colab": {
          "base_uri": "https://localhost:8080/",
          "height": 520
        },
        "outputId": "0737a62a-bd37-4f98-a8a6-985c34174f43"
      },
      "source": [
        "import random\n",
        "\n",
        "def get_guess():\n",
        "\n",
        "  dashes = \"-\" * len(secret_word)\n",
        "  guesses_left =5\n",
        "\n",
        "  while guesses_left > -1 and not dashes == secret_word:\n",
        "\n",
        "      print(dashes)\n",
        "      print (str(guesses_left))\n",
        "\n",
        "      guess = input(\"Guess:\")\n",
        "\n",
        "      if len(guess) != 1:\n",
        "        print (\"your guess must have exactly one character!\")\n",
        "\n",
        "      elif guess in secret_word:\n",
        "        print (\"That letter is in the secret word!\")\n",
        "        dashes = update_dashes(secret_word, dashes, guess)\n",
        "\n",
        "      else:\n",
        "        print (\"That letter was not in the secret word!\")\n",
        "        guesses_left -= 1\n",
        "    \n",
        "  if guesses_left < 0:\n",
        "    print (\"Game Over! Your word was: \" + str(secret_word))\n",
        "\n",
        "\n",
        "  else: \n",
        "    print (\"Congratulations! You're whe secret word Champion.  Your word was: \" + str(secret_word))\n",
        "\n",
        "def update_dashes(secret, cur_dash, rec_guess):\n",
        "    result =\"\"\n",
        "\n",
        "    for i in range(len(secret)):\n",
        "      if secret[i] == rec_guess:\n",
        "        result= result + rec_guess\n",
        "\n",
        "      else:\n",
        "        result = result + cur_dash[i]\n",
        "\n",
        "    return result\n",
        "\n",
        "words = ['Happy', 'Plumb', 'Pineapple']\n",
        "\n",
        "secret_word = random.choice(words)\n",
        "get_guess()\n",
        "\n"
      ],
      "execution_count": 8,
      "outputs": [
        {
          "output_type": "stream",
          "text": [
            "-----\n",
            "5\n",
            "Guess:p\n",
            "That letter is in the secret word!\n",
            "--pp-\n",
            "5\n",
            "Guess:s\n",
            "That letter was not in the secret word!\n",
            "--pp-\n",
            "4\n",
            "Guess:h\n",
            "That letter was not in the secret word!\n",
            "--pp-\n",
            "3\n",
            "Guess:H\n",
            "That letter is in the secret word!\n",
            "H-pp-\n",
            "3\n",
            "Guess:Happy\n",
            "your guess must have exactly one character!\n",
            "H-pp-\n",
            "3\n",
            "Guess:a\n",
            "That letter is in the secret word!\n",
            "Happ-\n",
            "3\n",
            "Guess:y\n",
            "That letter is in the secret word!\n",
            "Congratulations! You're whe secret word Champion.  Your word was: Happy\n"
          ],
          "name": "stdout"
        }
      ]
    }
  ]
}